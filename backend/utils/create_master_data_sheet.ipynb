{
 "cells": [
  {
   "cell_type": "markdown",
   "metadata": {},
   "source": [
    "# ACNH item filtering and json file creating"
   ]
  },
  {
   "cell_type": "markdown",
   "metadata": {},
   "source": [
    "Items found in this repository:\n",
    "\n",
    "https://github.com/jefflomacy/villagerdb"
   ]
  },
  {
   "cell_type": "code",
   "execution_count": null,
   "metadata": {},
   "outputs": [],
   "source": []
  },
  {
   "cell_type": "code",
   "execution_count": 1,
   "metadata": {},
   "outputs": [],
   "source": [
    "import glob\n",
    "import json\n",
    "import random\n",
    "import os"
   ]
  },
  {
   "cell_type": "code",
   "execution_count": 5,
   "metadata": {},
   "outputs": [],
   "source": [
    "item_files = glob.glob(r\"C:\\Users\\Jeremy\\Downloads\\villagerdb-master\\data\\items\\*\")"
   ]
  },
  {
   "cell_type": "code",
   "execution_count": 10,
   "metadata": {},
   "outputs": [],
   "source": [
    "items = []\n",
    "for item_file in item_files:\n",
    "    with open(item_file, \"rb\") as f:\n",
    "        item = json.load(f)\n",
    "        items.append(item)"
   ]
  },
  {
   "cell_type": "code",
   "execution_count": 24,
   "metadata": {},
   "outputs": [
    {
     "output_type": "execute_result",
     "data": {
      "text/plain": "{'id': 'tropical-sandals',\n 'name': 'Tropical Sandals',\n 'category': 'Shoes',\n 'games': {'nl': {'orderable': True,\n   'fashionThemes': ['Iconic'],\n   'sellPrice': {'currency': 'bells', 'value': 120},\n   'sources': ['Kicks'],\n   'buyPrices': [{'currency': 'bells', 'value': 480}]}}}"
     },
     "metadata": {},
     "execution_count": 24
    }
   ],
   "source": [
    "items[random.randint(0, len(items)-1)]"
   ]
  },
  {
   "cell_type": "markdown",
   "metadata": {},
   "source": [
    "## Functions to filter out fish and bugs from other items"
   ]
  },
  {
   "cell_type": "code",
   "execution_count": 53,
   "metadata": {},
   "outputs": [],
   "source": [
    "def find_bug_items(json_item: dict):\n",
    "    if \"Bugs\" not in json_item['category']:\n",
    "        return False\n",
    "    if \"nh\" not in json_item['games'].keys():\n",
    "        return False\n",
    "    return True\n",
    "\n",
    "def find_fish_items(json_item: dict):\n",
    "    if \"Fish\" not in json_item['category']:\n",
    "        return False\n",
    "    if \"nh\" not in json_item['games'].keys():\n",
    "        return False\n",
    "    return True"
   ]
  },
  {
   "cell_type": "code",
   "execution_count": 33,
   "metadata": {},
   "outputs": [],
   "source": [
    "all_bugs = list(filter(find_bug_items, items))"
   ]
  },
  {
   "cell_type": "code",
   "execution_count": 52,
   "metadata": {},
   "outputs": [
    {
     "output_type": "execute_result",
     "data": {
      "text/plain": "{'id': 'giant-water-bug',\n 'name': 'Giant Water Bug',\n 'games': {'nh': {'orderable': False,\n   'sources': ['North: Walking on top of rivers and ponds, Apr-Sep (7pm-8am)',\n    'South: Walking on top of rivers and ponds, Oct-Mar (7pm-8am)'],\n   'sellPrice': {'currency': 'bells', 'value': 2000}}},\n 'category': 'Bugs'}"
     },
     "metadata": {},
     "execution_count": 52
    }
   ],
   "source": [
    "all_bugs[random.randint(0, len(all_bugs)-1)]"
   ]
  },
  {
   "cell_type": "code",
   "execution_count": 54,
   "metadata": {},
   "outputs": [],
   "source": [
    "all_fish = list(filter(find_fish_items, items))"
   ]
  },
  {
   "cell_type": "code",
   "execution_count": 64,
   "metadata": {},
   "outputs": [
    {
     "output_type": "execute_result",
     "data": {
      "text/plain": "{'id': 'sea-butterfly',\n 'name': 'Sea Butterfly',\n 'category': 'Fish',\n 'games': {'nl': {'orderable': False,\n   'sellPrice': {'currency': 'bells', 'value': 1000},\n   'sources': ['In rivers.']},\n  'nh': {'orderable': False,\n   'sources': ['North: Tiny Shadows at Sea, Dec-Mar (All day)',\n    'South: Tiny Shadows at Sea, Jun-Sep (All day)'],\n   'sellPrice': {'currency': 'bells', 'value': 1000}}}}"
     },
     "metadata": {},
     "execution_count": 64
    }
   ],
   "source": [
    "all_fish[random.randint(0, len(all_fish)-1)]"
   ]
  },
  {
   "cell_type": "markdown",
   "metadata": {},
   "source": [
    "## Save the items in separate json files"
   ]
  },
  {
   "cell_type": "code",
   "execution_count": 65,
   "metadata": {},
   "outputs": [
    {
     "output_type": "execute_result",
     "data": {
      "text/plain": "'c:\\\\Users\\\\Jeremy\\\\Documents\\\\Code\\\\acnh-item-ocr\\\\backend\\\\utils'"
     },
     "metadata": {},
     "execution_count": 65
    }
   ],
   "source": [
    "os.getcwd()"
   ]
  },
  {
   "cell_type": "code",
   "execution_count": 78,
   "metadata": {},
   "outputs": [],
   "source": [
    "with open(f\"../data/fish.json\", \"w+\") as f:\n",
    "    json.dump(all_fish, f)"
   ]
  },
  {
   "cell_type": "code",
   "execution_count": 79,
   "metadata": {},
   "outputs": [],
   "source": [
    "with open(f\"../data/bugs.json\", \"w+\") as f:\n",
    "    json.dump(all_bugs, f)"
   ]
  }
 ],
 "metadata": {
  "language_info": {
   "codemirror_mode": {
    "name": "ipython",
    "version": 3
   },
   "file_extension": ".py",
   "mimetype": "text/x-python",
   "name": "python",
   "nbconvert_exporter": "python",
   "pygments_lexer": "ipython3",
   "version": "3.6.8-final"
  },
  "orig_nbformat": 2,
  "kernelspec": {
   "name": "python36864bit714d2e8a1d314d0c8442be52e9c91125",
   "display_name": "Python 3.6.8 64-bit"
  }
 },
 "nbformat": 4,
 "nbformat_minor": 2
}